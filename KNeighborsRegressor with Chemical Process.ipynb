{
 "cells": [
  {
   "cell_type": "code",
   "execution_count": 1,
   "metadata": {},
   "outputs": [
    {
     "name": "stderr",
     "output_type": "stream",
     "text": [
      "C:\\Users\\hp\\anaconda3\\lib\\site-packages\\pandas\\core\\computation\\expressions.py:20: UserWarning: Pandas requires version '2.7.3' or newer of 'numexpr' (version '2.7.1' currently installed).\n",
      "  from pandas.core.computation.check import NUMEXPR_INSTALLED\n"
     ]
    }
   ],
   "source": [
    "import pandas as pd\n",
    "import numpy as np\n",
    "import matplotlib.pyplot as plt\n",
    "import seaborn as sns"
   ]
  },
  {
   "cell_type": "code",
   "execution_count": 199,
   "metadata": {},
   "outputs": [
    {
     "name": "stdout",
     "output_type": "stream",
     "text": [
      "Collecting threadpoolctl\n",
      "  Downloading threadpoolctl-3.5.0-py3-none-any.whl (18 kB)\n",
      "Installing collected packages: threadpoolctl\n",
      "  Attempting uninstall: threadpoolctl\n",
      "    Found existing installation: threadpoolctl 3.1.0\n",
      "    Uninstalling threadpoolctl-3.1.0:\n",
      "      Successfully uninstalled threadpoolctl-3.1.0\n",
      "Successfully installed threadpoolctl-3.5.0\n"
     ]
    }
   ],
   "source": [
    "#!pip install threadpoolctl -U"
   ]
  },
  {
   "cell_type": "code",
   "execution_count": 228,
   "metadata": {},
   "outputs": [],
   "source": [
    "#os = os.environ['OMP_NUM_THREADS']='1'"
   ]
  },
  {
   "cell_type": "code",
   "execution_count": 2,
   "metadata": {},
   "outputs": [
    {
     "name": "stdout",
     "output_type": "stream",
     "text": [
      "{'height': [5, 5.11, 5.6, 5.9, 4.8, 5.8, 5.3, 5.8, 5.5, 5.6], 'age': [45, 26, 30, 34, 40, 36, 19, 28, 23, 32], 'weight': [77, 47, 55, 59, 72, 60, 40, 60, 45, 58]}\n"
     ]
    }
   ],
   "source": [
    "data = {'height': [5,5.11,5.6,5.9,4.8,5.8,5.3,5.8,5.5,5.6],\n",
    "        'age' : [45,26,30,34,40,36,19,28,23,32],\n",
    "        'weight' : [77,47,55,59,72,60,40,60,45,58]}\n",
    "\n",
    "print(data)"
   ]
  },
  {
   "cell_type": "code",
   "execution_count": 3,
   "metadata": {},
   "outputs": [
    {
     "data": {
      "text/html": [
       "<div>\n",
       "<style scoped>\n",
       "    .dataframe tbody tr th:only-of-type {\n",
       "        vertical-align: middle;\n",
       "    }\n",
       "\n",
       "    .dataframe tbody tr th {\n",
       "        vertical-align: top;\n",
       "    }\n",
       "\n",
       "    .dataframe thead th {\n",
       "        text-align: right;\n",
       "    }\n",
       "</style>\n",
       "<table border=\"1\" class=\"dataframe\">\n",
       "  <thead>\n",
       "    <tr style=\"text-align: right;\">\n",
       "      <th></th>\n",
       "      <th>height</th>\n",
       "      <th>age</th>\n",
       "      <th>weight</th>\n",
       "    </tr>\n",
       "  </thead>\n",
       "  <tbody>\n",
       "    <tr>\n",
       "      <th>0</th>\n",
       "      <td>5.00</td>\n",
       "      <td>45</td>\n",
       "      <td>77</td>\n",
       "    </tr>\n",
       "    <tr>\n",
       "      <th>1</th>\n",
       "      <td>5.11</td>\n",
       "      <td>26</td>\n",
       "      <td>47</td>\n",
       "    </tr>\n",
       "    <tr>\n",
       "      <th>2</th>\n",
       "      <td>5.60</td>\n",
       "      <td>30</td>\n",
       "      <td>55</td>\n",
       "    </tr>\n",
       "    <tr>\n",
       "      <th>3</th>\n",
       "      <td>5.90</td>\n",
       "      <td>34</td>\n",
       "      <td>59</td>\n",
       "    </tr>\n",
       "    <tr>\n",
       "      <th>4</th>\n",
       "      <td>4.80</td>\n",
       "      <td>40</td>\n",
       "      <td>72</td>\n",
       "    </tr>\n",
       "    <tr>\n",
       "      <th>5</th>\n",
       "      <td>5.80</td>\n",
       "      <td>36</td>\n",
       "      <td>60</td>\n",
       "    </tr>\n",
       "    <tr>\n",
       "      <th>6</th>\n",
       "      <td>5.30</td>\n",
       "      <td>19</td>\n",
       "      <td>40</td>\n",
       "    </tr>\n",
       "    <tr>\n",
       "      <th>7</th>\n",
       "      <td>5.80</td>\n",
       "      <td>28</td>\n",
       "      <td>60</td>\n",
       "    </tr>\n",
       "    <tr>\n",
       "      <th>8</th>\n",
       "      <td>5.50</td>\n",
       "      <td>23</td>\n",
       "      <td>45</td>\n",
       "    </tr>\n",
       "    <tr>\n",
       "      <th>9</th>\n",
       "      <td>5.60</td>\n",
       "      <td>32</td>\n",
       "      <td>58</td>\n",
       "    </tr>\n",
       "  </tbody>\n",
       "</table>\n",
       "</div>"
      ],
      "text/plain": [
       "   height  age  weight\n",
       "0    5.00   45      77\n",
       "1    5.11   26      47\n",
       "2    5.60   30      55\n",
       "3    5.90   34      59\n",
       "4    4.80   40      72\n",
       "5    5.80   36      60\n",
       "6    5.30   19      40\n",
       "7    5.80   28      60\n",
       "8    5.50   23      45\n",
       "9    5.60   32      58"
      ]
     },
     "execution_count": 3,
     "metadata": {},
     "output_type": "execute_result"
    }
   ],
   "source": [
    "df1 = pd.DataFrame(data)\n",
    "df1"
   ]
  },
  {
   "cell_type": "code",
   "execution_count": 4,
   "metadata": {},
   "outputs": [
    {
     "data": {
      "text/plain": [
       "(10, 3)"
      ]
     },
     "execution_count": 4,
     "metadata": {},
     "output_type": "execute_result"
    }
   ],
   "source": [
    "df1.shape"
   ]
  },
  {
   "cell_type": "code",
   "execution_count": 5,
   "metadata": {},
   "outputs": [
    {
     "data": {
      "text/plain": [
       "height    0\n",
       "age       0\n",
       "weight    0\n",
       "dtype: int64"
      ]
     },
     "execution_count": 5,
     "metadata": {},
     "output_type": "execute_result"
    }
   ],
   "source": [
    "df1.isnull().sum()"
   ]
  },
  {
   "cell_type": "code",
   "execution_count": 6,
   "metadata": {},
   "outputs": [
    {
     "data": {
      "image/png": "[encoded data removed]",
      "text/plain": [
       "<Figure size 432x288 with 1 Axes>"
      ]
     },
     "metadata": {
      "needs_background": "light"
     },
     "output_type": "display_data"
    }
   ],
   "source": [
    "labels = df1.index + 1\n",
    "plt.figure(figsize=(6,4))\n",
    "plt.scatter(df1['age'], df1['height'])\n",
    "plt.scatter(38,5.5, color='black', marker='*', s=80)\n",
    "plt.xlabel('Age')\n",
    "plt.ylabel('Height')\n",
    "plt.ylim(3,7)\n",
    "for i, x, y in zip(labels, df1['age'], df1['height']):\n",
    "    plt.annotate(s=i, xy=(x-0.3, y+0.12))\n",
    "plt.show()\n"
   ]
  },
  {
   "cell_type": "markdown",
   "metadata": {},
   "source": [
    "# Eculidean Distance"
   ]
  },
  {
   "cell_type": "code",
   "execution_count": 7,
   "metadata": {},
   "outputs": [],
   "source": [
    "np.float = float\n",
    "np.str = str"
   ]
  },
  {
   "cell_type": "code",
   "execution_count": 8,
   "metadata": {},
   "outputs": [
    {
     "data": {
      "text/html": [
       "<div>\n",
       "<style scoped>\n",
       "    .dataframe tbody tr th:only-of-type {\n",
       "        vertical-align: middle;\n",
       "    }\n",
       "\n",
       "    .dataframe tbody tr th {\n",
       "        vertical-align: top;\n",
       "    }\n",
       "\n",
       "    .dataframe thead th {\n",
       "        text-align: right;\n",
       "    }\n",
       "</style>\n",
       "<table border=\"1\" class=\"dataframe\">\n",
       "  <thead>\n",
       "    <tr style=\"text-align: right;\">\n",
       "      <th></th>\n",
       "      <th>height</th>\n",
       "      <th>age</th>\n",
       "      <th>weight</th>\n",
       "      <th>dist</th>\n",
       "    </tr>\n",
       "  </thead>\n",
       "  <tbody>\n",
       "    <tr>\n",
       "      <th>0</th>\n",
       "      <td>5.00</td>\n",
       "      <td>45</td>\n",
       "      <td>77</td>\n",
       "      <td>7.017834</td>\n",
       "    </tr>\n",
       "    <tr>\n",
       "      <th>1</th>\n",
       "      <td>5.11</td>\n",
       "      <td>26</td>\n",
       "      <td>47</td>\n",
       "      <td>12.006336</td>\n",
       "    </tr>\n",
       "    <tr>\n",
       "      <th>2</th>\n",
       "      <td>5.60</td>\n",
       "      <td>30</td>\n",
       "      <td>55</td>\n",
       "      <td>8.000625</td>\n",
       "    </tr>\n",
       "    <tr>\n",
       "      <th>3</th>\n",
       "      <td>5.90</td>\n",
       "      <td>34</td>\n",
       "      <td>59</td>\n",
       "      <td>4.019950</td>\n",
       "    </tr>\n",
       "    <tr>\n",
       "      <th>4</th>\n",
       "      <td>4.80</td>\n",
       "      <td>40</td>\n",
       "      <td>72</td>\n",
       "      <td>2.118962</td>\n",
       "    </tr>\n",
       "    <tr>\n",
       "      <th>5</th>\n",
       "      <td>5.80</td>\n",
       "      <td>36</td>\n",
       "      <td>60</td>\n",
       "      <td>2.022375</td>\n",
       "    </tr>\n",
       "    <tr>\n",
       "      <th>6</th>\n",
       "      <td>5.30</td>\n",
       "      <td>19</td>\n",
       "      <td>40</td>\n",
       "      <td>19.001053</td>\n",
       "    </tr>\n",
       "    <tr>\n",
       "      <th>7</th>\n",
       "      <td>5.80</td>\n",
       "      <td>28</td>\n",
       "      <td>60</td>\n",
       "      <td>10.004499</td>\n",
       "    </tr>\n",
       "    <tr>\n",
       "      <th>8</th>\n",
       "      <td>5.50</td>\n",
       "      <td>23</td>\n",
       "      <td>45</td>\n",
       "      <td>15.000000</td>\n",
       "    </tr>\n",
       "    <tr>\n",
       "      <th>9</th>\n",
       "      <td>5.60</td>\n",
       "      <td>32</td>\n",
       "      <td>58</td>\n",
       "      <td>6.000833</td>\n",
       "    </tr>\n",
       "  </tbody>\n",
       "</table>\n",
       "</div>"
      ],
      "text/plain": [
       "   height  age  weight       dist\n",
       "0    5.00   45      77   7.017834\n",
       "1    5.11   26      47  12.006336\n",
       "2    5.60   30      55   8.000625\n",
       "3    5.90   34      59   4.019950\n",
       "4    4.80   40      72   2.118962\n",
       "5    5.80   36      60   2.022375\n",
       "6    5.30   19      40  19.001053\n",
       "7    5.80   28      60  10.004499\n",
       "8    5.50   23      45  15.000000\n",
       "9    5.60   32      58   6.000833"
      ]
     },
     "execution_count": 8,
     "metadata": {},
     "output_type": "execute_result"
    }
   ],
   "source": [
    "df1['dist'] = np.sqrt((df1['height'] - 5.5)**2 + (df1['age'] - 38)**2)\n",
    "df1"
   ]
  },
  {
   "cell_type": "markdown",
   "metadata": {},
   "source": [
    "# We can conclude that data points at index 5,4 and 3 are the k(3) nearest neighbors"
   ]
  },
  {
   "cell_type": "code",
   "execution_count": 9,
   "metadata": {},
   "outputs": [
    {
     "data": {
      "text/plain": [
       "5    60\n",
       "4    72\n",
       "3    59\n",
       "Name: weight, dtype: int64"
      ]
     },
     "execution_count": 9,
     "metadata": {},
     "output_type": "execute_result"
    }
   ],
   "source": [
    "df1.loc[[5,4,3], 'weight']"
   ]
  },
  {
   "cell_type": "markdown",
   "metadata": {},
   "source": [
    "Predicted Weight for Height = 5.5, age = 38"
   ]
  },
  {
   "cell_type": "markdown",
   "metadata": {},
   "source": [
    "# KNN on Chemical process Dataset"
   ]
  },
  {
   "cell_type": "code",
   "execution_count": 10,
   "metadata": {},
   "outputs": [
    {
     "data": {
      "text/html": [
       "<div>\n",
       "<style scoped>\n",
       "    .dataframe tbody tr th:only-of-type {\n",
       "        vertical-align: middle;\n",
       "    }\n",
       "\n",
       "    .dataframe tbody tr th {\n",
       "        vertical-align: top;\n",
       "    }\n",
       "\n",
       "    .dataframe thead th {\n",
       "        text-align: right;\n",
       "    }\n",
       "</style>\n",
       "<table border=\"1\" class=\"dataframe\">\n",
       "  <thead>\n",
       "    <tr style=\"text-align: right;\">\n",
       "      <th></th>\n",
       "      <th>Yield</th>\n",
       "      <th>BiologicalMaterial01</th>\n",
       "      <th>BiologicalMaterial02</th>\n",
       "      <th>BiologicalMaterial03</th>\n",
       "      <th>BiologicalMaterial04</th>\n",
       "      <th>BiologicalMaterial05</th>\n",
       "      <th>BiologicalMaterial06</th>\n",
       "      <th>BiologicalMaterial07</th>\n",
       "      <th>BiologicalMaterial08</th>\n",
       "      <th>BiologicalMaterial09</th>\n",
       "      <th>...</th>\n",
       "      <th>ManufacturingProcess36</th>\n",
       "      <th>ManufacturingProcess37</th>\n",
       "      <th>ManufacturingProcess38</th>\n",
       "      <th>ManufacturingProcess39</th>\n",
       "      <th>ManufacturingProcess40</th>\n",
       "      <th>ManufacturingProcess41</th>\n",
       "      <th>ManufacturingProcess42</th>\n",
       "      <th>ManufacturingProcess43</th>\n",
       "      <th>ManufacturingProcess44</th>\n",
       "      <th>ManufacturingProcess45</th>\n",
       "    </tr>\n",
       "  </thead>\n",
       "  <tbody>\n",
       "    <tr>\n",
       "      <th>0</th>\n",
       "      <td>38.00</td>\n",
       "      <td>6.25</td>\n",
       "      <td>49.58</td>\n",
       "      <td>56.97</td>\n",
       "      <td>12.74</td>\n",
       "      <td>19.51</td>\n",
       "      <td>43.73</td>\n",
       "      <td>100.0</td>\n",
       "      <td>16.66</td>\n",
       "      <td>11.44</td>\n",
       "      <td>...</td>\n",
       "      <td>0.019</td>\n",
       "      <td>0.5</td>\n",
       "      <td>3</td>\n",
       "      <td>7.2</td>\n",
       "      <td>NaN</td>\n",
       "      <td>NaN</td>\n",
       "      <td>11.6</td>\n",
       "      <td>3.0</td>\n",
       "      <td>1.8</td>\n",
       "      <td>2.4</td>\n",
       "    </tr>\n",
       "    <tr>\n",
       "      <th>1</th>\n",
       "      <td>42.44</td>\n",
       "      <td>8.01</td>\n",
       "      <td>60.97</td>\n",
       "      <td>67.48</td>\n",
       "      <td>14.65</td>\n",
       "      <td>19.36</td>\n",
       "      <td>53.14</td>\n",
       "      <td>100.0</td>\n",
       "      <td>19.04</td>\n",
       "      <td>12.55</td>\n",
       "      <td>...</td>\n",
       "      <td>0.019</td>\n",
       "      <td>2.0</td>\n",
       "      <td>2</td>\n",
       "      <td>7.2</td>\n",
       "      <td>0.1</td>\n",
       "      <td>0.15</td>\n",
       "      <td>11.1</td>\n",
       "      <td>0.9</td>\n",
       "      <td>1.9</td>\n",
       "      <td>2.2</td>\n",
       "    </tr>\n",
       "    <tr>\n",
       "      <th>2</th>\n",
       "      <td>42.03</td>\n",
       "      <td>8.01</td>\n",
       "      <td>60.97</td>\n",
       "      <td>67.48</td>\n",
       "      <td>14.65</td>\n",
       "      <td>19.36</td>\n",
       "      <td>53.14</td>\n",
       "      <td>100.0</td>\n",
       "      <td>19.04</td>\n",
       "      <td>12.55</td>\n",
       "      <td>...</td>\n",
       "      <td>0.018</td>\n",
       "      <td>0.7</td>\n",
       "      <td>2</td>\n",
       "      <td>7.2</td>\n",
       "      <td>0.0</td>\n",
       "      <td>0.00</td>\n",
       "      <td>12.0</td>\n",
       "      <td>1.0</td>\n",
       "      <td>1.8</td>\n",
       "      <td>2.3</td>\n",
       "    </tr>\n",
       "    <tr>\n",
       "      <th>3</th>\n",
       "      <td>41.42</td>\n",
       "      <td>8.01</td>\n",
       "      <td>60.97</td>\n",
       "      <td>67.48</td>\n",
       "      <td>14.65</td>\n",
       "      <td>19.36</td>\n",
       "      <td>53.14</td>\n",
       "      <td>100.0</td>\n",
       "      <td>19.04</td>\n",
       "      <td>12.55</td>\n",
       "      <td>...</td>\n",
       "      <td>0.018</td>\n",
       "      <td>1.2</td>\n",
       "      <td>2</td>\n",
       "      <td>7.2</td>\n",
       "      <td>0.0</td>\n",
       "      <td>0.00</td>\n",
       "      <td>10.6</td>\n",
       "      <td>1.1</td>\n",
       "      <td>1.8</td>\n",
       "      <td>2.1</td>\n",
       "    </tr>\n",
       "    <tr>\n",
       "      <th>4</th>\n",
       "      <td>42.49</td>\n",
       "      <td>7.47</td>\n",
       "      <td>63.33</td>\n",
       "      <td>72.25</td>\n",
       "      <td>14.02</td>\n",
       "      <td>17.91</td>\n",
       "      <td>54.66</td>\n",
       "      <td>100.0</td>\n",
       "      <td>18.22</td>\n",
       "      <td>12.80</td>\n",
       "      <td>...</td>\n",
       "      <td>0.017</td>\n",
       "      <td>0.2</td>\n",
       "      <td>2</td>\n",
       "      <td>7.3</td>\n",
       "      <td>0.0</td>\n",
       "      <td>0.00</td>\n",
       "      <td>11.0</td>\n",
       "      <td>1.1</td>\n",
       "      <td>1.7</td>\n",
       "      <td>2.1</td>\n",
       "    </tr>\n",
       "    <tr>\n",
       "      <th>5</th>\n",
       "      <td>43.57</td>\n",
       "      <td>6.12</td>\n",
       "      <td>58.36</td>\n",
       "      <td>65.31</td>\n",
       "      <td>15.17</td>\n",
       "      <td>21.79</td>\n",
       "      <td>51.23</td>\n",
       "      <td>100.0</td>\n",
       "      <td>18.30</td>\n",
       "      <td>12.13</td>\n",
       "      <td>...</td>\n",
       "      <td>0.018</td>\n",
       "      <td>0.4</td>\n",
       "      <td>2</td>\n",
       "      <td>7.2</td>\n",
       "      <td>0.0</td>\n",
       "      <td>0.00</td>\n",
       "      <td>11.5</td>\n",
       "      <td>2.2</td>\n",
       "      <td>1.8</td>\n",
       "      <td>2.0</td>\n",
       "    </tr>\n",
       "    <tr>\n",
       "      <th>6</th>\n",
       "      <td>43.12</td>\n",
       "      <td>7.48</td>\n",
       "      <td>64.47</td>\n",
       "      <td>72.41</td>\n",
       "      <td>13.82</td>\n",
       "      <td>17.71</td>\n",
       "      <td>54.45</td>\n",
       "      <td>100.0</td>\n",
       "      <td>18.72</td>\n",
       "      <td>12.95</td>\n",
       "      <td>...</td>\n",
       "      <td>0.019</td>\n",
       "      <td>0.8</td>\n",
       "      <td>2</td>\n",
       "      <td>7.3</td>\n",
       "      <td>0.0</td>\n",
       "      <td>0.00</td>\n",
       "      <td>11.7</td>\n",
       "      <td>0.7</td>\n",
       "      <td>2.0</td>\n",
       "      <td>2.2</td>\n",
       "    </tr>\n",
       "    <tr>\n",
       "      <th>7</th>\n",
       "      <td>43.06</td>\n",
       "      <td>6.94</td>\n",
       "      <td>63.60</td>\n",
       "      <td>72.06</td>\n",
       "      <td>15.70</td>\n",
       "      <td>19.42</td>\n",
       "      <td>54.72</td>\n",
       "      <td>100.0</td>\n",
       "      <td>18.85</td>\n",
       "      <td>13.13</td>\n",
       "      <td>...</td>\n",
       "      <td>0.019</td>\n",
       "      <td>1.0</td>\n",
       "      <td>2</td>\n",
       "      <td>7.3</td>\n",
       "      <td>0.0</td>\n",
       "      <td>0.00</td>\n",
       "      <td>11.4</td>\n",
       "      <td>0.8</td>\n",
       "      <td>2.0</td>\n",
       "      <td>2.2</td>\n",
       "    </tr>\n",
       "    <tr>\n",
       "      <th>8</th>\n",
       "      <td>41.49</td>\n",
       "      <td>6.94</td>\n",
       "      <td>63.60</td>\n",
       "      <td>72.06</td>\n",
       "      <td>15.70</td>\n",
       "      <td>19.42</td>\n",
       "      <td>54.72</td>\n",
       "      <td>100.0</td>\n",
       "      <td>18.85</td>\n",
       "      <td>13.13</td>\n",
       "      <td>...</td>\n",
       "      <td>0.019</td>\n",
       "      <td>1.2</td>\n",
       "      <td>3</td>\n",
       "      <td>7.4</td>\n",
       "      <td>0.0</td>\n",
       "      <td>0.00</td>\n",
       "      <td>11.4</td>\n",
       "      <td>0.9</td>\n",
       "      <td>1.9</td>\n",
       "      <td>2.1</td>\n",
       "    </tr>\n",
       "    <tr>\n",
       "      <th>9</th>\n",
       "      <td>42.45</td>\n",
       "      <td>6.94</td>\n",
       "      <td>63.60</td>\n",
       "      <td>72.06</td>\n",
       "      <td>15.70</td>\n",
       "      <td>19.42</td>\n",
       "      <td>54.72</td>\n",
       "      <td>100.0</td>\n",
       "      <td>18.85</td>\n",
       "      <td>13.13</td>\n",
       "      <td>...</td>\n",
       "      <td>0.019</td>\n",
       "      <td>1.8</td>\n",
       "      <td>3</td>\n",
       "      <td>7.1</td>\n",
       "      <td>0.0</td>\n",
       "      <td>0.00</td>\n",
       "      <td>11.3</td>\n",
       "      <td>0.8</td>\n",
       "      <td>1.9</td>\n",
       "      <td>2.4</td>\n",
       "    </tr>\n",
       "  </tbody>\n",
       "</table>\n",
       "<p>10 rows × 58 columns</p>\n",
       "</div>"
      ],
      "text/plain": [
       "   Yield  BiologicalMaterial01  BiologicalMaterial02  BiologicalMaterial03  \\\n",
       "0  38.00                  6.25                 49.58                 56.97   \n",
       "1  42.44                  8.01                 60.97                 67.48   \n",
       "2  42.03                  8.01                 60.97                 67.48   \n",
       "3  41.42                  8.01                 60.97                 67.48   \n",
       "4  42.49                  7.47                 63.33                 72.25   \n",
       "5  43.57                  6.12                 58.36                 65.31   \n",
       "6  43.12                  7.48                 64.47                 72.41   \n",
       "7  43.06                  6.94                 63.60                 72.06   \n",
       "8  41.49                  6.94                 63.60                 72.06   \n",
       "9  42.45                  6.94                 63.60                 72.06   \n",
       "\n",
       "   BiologicalMaterial04  BiologicalMaterial05  BiologicalMaterial06  \\\n",
       "0                 12.74                 19.51                 43.73   \n",
       "1                 14.65                 19.36                 53.14   \n",
       "2                 14.65                 19.36                 53.14   \n",
       "3                 14.65                 19.36                 53.14   \n",
       "4                 14.02                 17.91                 54.66   \n",
       "5                 15.17                 21.79                 51.23   \n",
       "6                 13.82                 17.71                 54.45   \n",
       "7                 15.70                 19.42                 54.72   \n",
       "8                 15.70                 19.42                 54.72   \n",
       "9                 15.70                 19.42                 54.72   \n",
       "\n",
       "   BiologicalMaterial07  BiologicalMaterial08  BiologicalMaterial09  ...  \\\n",
       "0                 100.0                 16.66                 11.44  ...   \n",
       "1                 100.0                 19.04                 12.55  ...   \n",
       "2                 100.0                 19.04                 12.55  ...   \n",
       "3                 100.0                 19.04                 12.55  ...   \n",
       "4                 100.0                 18.22                 12.80  ...   \n",
       "5                 100.0                 18.30                 12.13  ...   \n",
       "6                 100.0                 18.72                 12.95  ...   \n",
       "7                 100.0                 18.85                 13.13  ...   \n",
       "8                 100.0                 18.85                 13.13  ...   \n",
       "9                 100.0                 18.85                 13.13  ...   \n",
       "\n",
       "   ManufacturingProcess36  ManufacturingProcess37  ManufacturingProcess38  \\\n",
       "0                   0.019                     0.5                       3   \n",
       "1                   0.019                     2.0                       2   \n",
       "2                   0.018                     0.7                       2   \n",
       "3                   0.018                     1.2                       2   \n",
       "4                   0.017                     0.2                       2   \n",
       "5                   0.018                     0.4                       2   \n",
       "6                   0.019                     0.8                       2   \n",
       "7                   0.019                     1.0                       2   \n",
       "8                   0.019                     1.2                       3   \n",
       "9                   0.019                     1.8                       3   \n",
       "\n",
       "   ManufacturingProcess39  ManufacturingProcess40  ManufacturingProcess41  \\\n",
       "0                     7.2                     NaN                     NaN   \n",
       "1                     7.2                     0.1                    0.15   \n",
       "2                     7.2                     0.0                    0.00   \n",
       "3                     7.2                     0.0                    0.00   \n",
       "4                     7.3                     0.0                    0.00   \n",
       "5                     7.2                     0.0                    0.00   \n",
       "6                     7.3                     0.0                    0.00   \n",
       "7                     7.3                     0.0                    0.00   \n",
       "8                     7.4                     0.0                    0.00   \n",
       "9                     7.1                     0.0                    0.00   \n",
       "\n",
       "   ManufacturingProcess42  ManufacturingProcess43  ManufacturingProcess44  \\\n",
       "0                    11.6                     3.0                     1.8   \n",
       "1                    11.1                     0.9                     1.9   \n",
       "2                    12.0                     1.0                     1.8   \n",
       "3                    10.6                     1.1                     1.8   \n",
       "4                    11.0                     1.1                     1.7   \n",
       "5                    11.5                     2.2                     1.8   \n",
       "6                    11.7                     0.7                     2.0   \n",
       "7                    11.4                     0.8                     2.0   \n",
       "8                    11.4                     0.9                     1.9   \n",
       "9                    11.3                     0.8                     1.9   \n",
       "\n",
       "   ManufacturingProcess45  \n",
       "0                     2.4  \n",
       "1                     2.2  \n",
       "2                     2.3  \n",
       "3                     2.1  \n",
       "4                     2.1  \n",
       "5                     2.0  \n",
       "6                     2.2  \n",
       "7                     2.2  \n",
       "8                     2.1  \n",
       "9                     2.4  \n",
       "\n",
       "[10 rows x 58 columns]"
      ]
     },
     "execution_count": 10,
     "metadata": {},
     "output_type": "execute_result"
    }
   ],
   "source": [
    "df = pd.read_csv('E:\\DATA Science\\Machine Learning\\ChemicalProcess.csv')\n",
    "df.head(10)"
   ]
  },
  {
   "cell_type": "code",
   "execution_count": 11,
   "metadata": {},
   "outputs": [
    {
     "data": {
      "text/plain": [
       "(176, 58)"
      ]
     },
     "execution_count": 11,
     "metadata": {},
     "output_type": "execute_result"
    }
   ],
   "source": [
    "df.shape"
   ]
  },
  {
   "cell_type": "code",
   "execution_count": 12,
   "metadata": {},
   "outputs": [
    {
     "data": {
      "text/plain": [
       "Index(['Yield', 'BiologicalMaterial01', 'BiologicalMaterial02',\n",
       "       'BiologicalMaterial03', 'BiologicalMaterial04', 'BiologicalMaterial05',\n",
       "       'BiologicalMaterial06', 'BiologicalMaterial07', 'BiologicalMaterial08',\n",
       "       'BiologicalMaterial09', 'BiologicalMaterial10', 'BiologicalMaterial11',\n",
       "       'BiologicalMaterial12', 'ManufacturingProcess01',\n",
       "       'ManufacturingProcess02', 'ManufacturingProcess03',\n",
       "       'ManufacturingProcess04', 'ManufacturingProcess05',\n",
       "       'ManufacturingProcess06', 'ManufacturingProcess07',\n",
       "       'ManufacturingProcess08', 'ManufacturingProcess09',\n",
       "       'ManufacturingProcess10', 'ManufacturingProcess11',\n",
       "       'ManufacturingProcess12', 'ManufacturingProcess13',\n",
       "       'ManufacturingProcess14', 'ManufacturingProcess15',\n",
       "       'ManufacturingProcess16', 'ManufacturingProcess17',\n",
       "       'ManufacturingProcess18', 'ManufacturingProcess19',\n",
       "       'ManufacturingProcess20', 'ManufacturingProcess21',\n",
       "       'ManufacturingProcess22', 'ManufacturingProcess23',\n",
       "       'ManufacturingProcess24', 'ManufacturingProcess25',\n",
       "       'ManufacturingProcess26', 'ManufacturingProcess27',\n",
       "       'ManufacturingProcess28', 'ManufacturingProcess29',\n",
       "       'ManufacturingProcess30', 'ManufacturingProcess31',\n",
       "       'ManufacturingProcess32', 'ManufacturingProcess33',\n",
       "       'ManufacturingProcess34', 'ManufacturingProcess35',\n",
       "       'ManufacturingProcess36', 'ManufacturingProcess37',\n",
       "       'ManufacturingProcess38', 'ManufacturingProcess39',\n",
       "       'ManufacturingProcess40', 'ManufacturingProcess41',\n",
       "       'ManufacturingProcess42', 'ManufacturingProcess43',\n",
       "       'ManufacturingProcess44', 'ManufacturingProcess45'],\n",
       "      dtype='object')"
      ]
     },
     "execution_count": 12,
     "metadata": {},
     "output_type": "execute_result"
    }
   ],
   "source": [
    "df.columns"
   ]
  },
  {
   "cell_type": "code",
   "execution_count": 13,
   "metadata": {},
   "outputs": [
    {
     "data": {
      "text/plain": [
       "Yield                     float64\n",
       "BiologicalMaterial01      float64\n",
       "BiologicalMaterial02      float64\n",
       "BiologicalMaterial03      float64\n",
       "BiologicalMaterial04      float64\n",
       "BiologicalMaterial05      float64\n",
       "BiologicalMaterial06      float64\n",
       "BiologicalMaterial07      float64\n",
       "BiologicalMaterial08      float64\n",
       "BiologicalMaterial09      float64\n",
       "BiologicalMaterial10      float64\n",
       "BiologicalMaterial11      float64\n",
       "BiologicalMaterial12      float64\n",
       "ManufacturingProcess01    float64\n",
       "ManufacturingProcess02    float64\n",
       "ManufacturingProcess03    float64\n",
       "ManufacturingProcess04    float64\n",
       "ManufacturingProcess05    float64\n",
       "ManufacturingProcess06    float64\n",
       "ManufacturingProcess07    float64\n",
       "ManufacturingProcess08    float64\n",
       "ManufacturingProcess09    float64\n",
       "ManufacturingProcess10    float64\n",
       "ManufacturingProcess11    float64\n",
       "ManufacturingProcess12    float64\n",
       "ManufacturingProcess13    float64\n",
       "ManufacturingProcess14    float64\n",
       "ManufacturingProcess15      int64\n",
       "ManufacturingProcess16      int64\n",
       "ManufacturingProcess17    float64\n",
       "ManufacturingProcess18      int64\n",
       "ManufacturingProcess19      int64\n",
       "ManufacturingProcess20      int64\n",
       "ManufacturingProcess21    float64\n",
       "ManufacturingProcess22    float64\n",
       "ManufacturingProcess23    float64\n",
       "ManufacturingProcess24    float64\n",
       "ManufacturingProcess25    float64\n",
       "ManufacturingProcess26    float64\n",
       "ManufacturingProcess27    float64\n",
       "ManufacturingProcess28    float64\n",
       "ManufacturingProcess29    float64\n",
       "ManufacturingProcess30    float64\n",
       "ManufacturingProcess31    float64\n",
       "ManufacturingProcess32      int64\n",
       "ManufacturingProcess33    float64\n",
       "ManufacturingProcess34    float64\n",
       "ManufacturingProcess35    float64\n",
       "ManufacturingProcess36    float64\n",
       "ManufacturingProcess37    float64\n",
       "ManufacturingProcess38      int64\n",
       "ManufacturingProcess39    float64\n",
       "ManufacturingProcess40    float64\n",
       "ManufacturingProcess41    float64\n",
       "ManufacturingProcess42    float64\n",
       "ManufacturingProcess43    float64\n",
       "ManufacturingProcess44    float64\n",
       "ManufacturingProcess45    float64\n",
       "dtype: object"
      ]
     },
     "execution_count": 13,
     "metadata": {},
     "output_type": "execute_result"
    }
   ],
   "source": [
    "df.dtypes"
   ]
  },
  {
   "cell_type": "code",
   "execution_count": 14,
   "metadata": {},
   "outputs": [
    {
     "data": {
      "text/plain": [
       "ManufacturingProcess01     1\n",
       "ManufacturingProcess02     3\n",
       "ManufacturingProcess03    15\n",
       "ManufacturingProcess04     1\n",
       "ManufacturingProcess05     1\n",
       "ManufacturingProcess06     2\n",
       "ManufacturingProcess07     1\n",
       "ManufacturingProcess08     1\n",
       "ManufacturingProcess10     9\n",
       "ManufacturingProcess11    10\n",
       "ManufacturingProcess12     1\n",
       "ManufacturingProcess14     1\n",
       "ManufacturingProcess22     1\n",
       "ManufacturingProcess23     1\n",
       "ManufacturingProcess24     1\n",
       "ManufacturingProcess25     5\n",
       "ManufacturingProcess26     5\n",
       "ManufacturingProcess27     5\n",
       "ManufacturingProcess28     5\n",
       "ManufacturingProcess29     5\n",
       "ManufacturingProcess30     5\n",
       "ManufacturingProcess31     5\n",
       "ManufacturingProcess33     5\n",
       "ManufacturingProcess34     5\n",
       "ManufacturingProcess35     5\n",
       "ManufacturingProcess36     5\n",
       "ManufacturingProcess40     1\n",
       "ManufacturingProcess41     1\n",
       "dtype: int64"
      ]
     },
     "execution_count": 14,
     "metadata": {},
     "output_type": "execute_result"
    }
   ],
   "source": [
    "nv = df.isnull().sum()\n",
    "nv = nv[nv>0]\n",
    "nv"
   ]
  },
  {
   "cell_type": "code",
   "execution_count": 15,
   "metadata": {},
   "outputs": [
    {
     "data": {
      "text/plain": [
       "Index(['ManufacturingProcess01', 'ManufacturingProcess02',\n",
       "       'ManufacturingProcess03', 'ManufacturingProcess04',\n",
       "       'ManufacturingProcess05', 'ManufacturingProcess06',\n",
       "       'ManufacturingProcess07', 'ManufacturingProcess08',\n",
       "       'ManufacturingProcess10', 'ManufacturingProcess11',\n",
       "       'ManufacturingProcess12', 'ManufacturingProcess14',\n",
       "       'ManufacturingProcess22', 'ManufacturingProcess23',\n",
       "       'ManufacturingProcess24', 'ManufacturingProcess25',\n",
       "       'ManufacturingProcess26', 'ManufacturingProcess27',\n",
       "       'ManufacturingProcess28', 'ManufacturingProcess29',\n",
       "       'ManufacturingProcess30', 'ManufacturingProcess31',\n",
       "       'ManufacturingProcess33', 'ManufacturingProcess34',\n",
       "       'ManufacturingProcess35', 'ManufacturingProcess36',\n",
       "       'ManufacturingProcess40', 'ManufacturingProcess41'],\n",
       "      dtype='object')"
      ]
     },
     "execution_count": 15,
     "metadata": {},
     "output_type": "execute_result"
    }
   ],
   "source": [
    "nv.index"
   ]
  },
  {
   "cell_type": "markdown",
   "metadata": {},
   "source": [
    "Impute Null values"
   ]
  },
  {
   "cell_type": "code",
   "execution_count": 16,
   "metadata": {},
   "outputs": [],
   "source": [
    "def mean_impute(col):\n",
    "    df.fillna(df[col].mean(), inplace=True)"
   ]
  },
  {
   "cell_type": "code",
   "execution_count": 17,
   "metadata": {},
   "outputs": [],
   "source": [
    "for i in nv.index:\n",
    "    mean_impute(i)"
   ]
  },
  {
   "cell_type": "code",
   "execution_count": 18,
   "metadata": {},
   "outputs": [
    {
     "data": {
      "text/plain": [
       "Yield                     0\n",
       "BiologicalMaterial01      0\n",
       "BiologicalMaterial02      0\n",
       "BiologicalMaterial03      0\n",
       "BiologicalMaterial04      0\n",
       "BiologicalMaterial05      0\n",
       "BiologicalMaterial06      0\n",
       "BiologicalMaterial07      0\n",
       "BiologicalMaterial08      0\n",
       "BiologicalMaterial09      0\n",
       "BiologicalMaterial10      0\n",
       "BiologicalMaterial11      0\n",
       "BiologicalMaterial12      0\n",
       "ManufacturingProcess01    0\n",
       "ManufacturingProcess02    0\n",
       "ManufacturingProcess03    0\n",
       "ManufacturingProcess04    0\n",
       "ManufacturingProcess05    0\n",
       "ManufacturingProcess06    0\n",
       "ManufacturingProcess07    0\n",
       "ManufacturingProcess08    0\n",
       "ManufacturingProcess09    0\n",
       "ManufacturingProcess10    0\n",
       "ManufacturingProcess11    0\n",
       "ManufacturingProcess12    0\n",
       "ManufacturingProcess13    0\n",
       "ManufacturingProcess14    0\n",
       "ManufacturingProcess15    0\n",
       "ManufacturingProcess16    0\n",
       "ManufacturingProcess17    0\n",
       "ManufacturingProcess18    0\n",
       "ManufacturingProcess19    0\n",
       "ManufacturingProcess20    0\n",
       "ManufacturingProcess21    0\n",
       "ManufacturingProcess22    0\n",
       "ManufacturingProcess23    0\n",
       "ManufacturingProcess24    0\n",
       "ManufacturingProcess25    0\n",
       "ManufacturingProcess26    0\n",
       "ManufacturingProcess27    0\n",
       "ManufacturingProcess28    0\n",
       "ManufacturingProcess29    0\n",
       "ManufacturingProcess30    0\n",
       "ManufacturingProcess31    0\n",
       "ManufacturingProcess32    0\n",
       "ManufacturingProcess33    0\n",
       "ManufacturingProcess34    0\n",
       "ManufacturingProcess35    0\n",
       "ManufacturingProcess36    0\n",
       "ManufacturingProcess37    0\n",
       "ManufacturingProcess38    0\n",
       "ManufacturingProcess39    0\n",
       "ManufacturingProcess40    0\n",
       "ManufacturingProcess41    0\n",
       "ManufacturingProcess42    0\n",
       "ManufacturingProcess43    0\n",
       "ManufacturingProcess44    0\n",
       "ManufacturingProcess45    0\n",
       "dtype: int64"
      ]
     },
     "execution_count": 18,
     "metadata": {},
     "output_type": "execute_result"
    }
   ],
   "source": [
    "nv = df.isnull().sum()\n",
    "nv[nv>0]\n",
    "nv"
   ]
  },
  {
   "cell_type": "code",
   "execution_count": 19,
   "metadata": {},
   "outputs": [],
   "source": [
    "df.replace({'ManufacturingProcess01':{'NaN':0}}, inplace = True)\n",
    "df.replace({'ManufacturingProcess02':{'NaN':0}}, inplace = True)\n",
    "df.replace({'ManufacturingProcess03':{'NaN':0}}, inplace = True)\n",
    "df.replace({'ManufacturingProcess04':{'NaN':0}}, inplace = True)\n",
    "df.replace({'ManufacturingProcess05':{'NaN':0}}, inplace = True)\n",
    "df.replace({'ManufacturingProcess06':{'NaN':0}}, inplace = True)\n",
    "df.replace({'ManufacturingProcess07':{'NaN':0}}, inplace = True)\n",
    "df.replace({'ManufacturingProcess08':{'NaN':0}}, inplace = True)\n",
    "df.replace({'ManufacturingProcess09':{'NaN':0}}, inplace = True)\n",
    "df.replace({'ManufacturingProcess10':{'NaN':0}}, inplace = True)\n",
    "df.replace({'ManufacturingProcess11':{'NaN':0}}, inplace = True)\n",
    "df.replace({'ManufacturingProcess12':{'NaN':0}}, inplace = True)\n",
    "df.replace({'ManufacturingProcess13':{'NaN':0}}, inplace = True)\n",
    "df.replace({'ManufacturingProcess14':{'NaN':0}}, inplace = True)\n",
    "df.replace({'ManufacturingProcess15':{'NaN':0}}, inplace = True)\n",
    "df.replace({'ManufacturingProcess16':{'NaN':0}}, inplace = True)\n",
    "df.replace({'ManufacturingProcess17':{'NaN':0}}, inplace = True)\n",
    "df.replace({'ManufacturingProcess18':{'NaN':0}}, inplace = True)\n",
    "df.replace({'ManufacturingProcess19':{'NaN':0}}, inplace = True)\n",
    "df.replace({'ManufacturingProcess20':{'NaN':0}}, inplace = True)\n",
    "df.replace({'ManufacturingProcess21':{'NaN':0}}, inplace = True)\n",
    "df.replace({'ManufacturingProcess22':{'NaN':0}}, inplace = True)\n",
    "df.replace({'ManufacturingProcess23':{'NaN':0}}, inplace = True)\n",
    "df.replace({'ManufacturingProcess24':{'NaN':0}}, inplace = True)\n",
    "df.replace({'ManufacturingProcess25':{'NaN':0}}, inplace = True)\n",
    "df.replace({'ManufacturingProcess26':{'NaN':0}}, inplace = True)\n",
    "df.replace({'ManufacturingProcess27':{'NaN':0}}, inplace = True)\n",
    "df.replace({'ManufacturingProcess28':{'NaN':0}}, inplace = True)\n",
    "df.replace({'ManufacturingProcess29':{'NaN':0}}, inplace = True)\n",
    "df.replace({'ManufacturingProcess30':{'NaN':0}}, inplace = True)\n",
    "df.replace({'ManufacturingProcess31':{'NaN':0}}, inplace = True)\n",
    "df.replace({'ManufacturingProcess32':{'NaN':0}}, inplace = True)\n",
    "df.replace({'ManufacturingProcess33':{'NaN':0}}, inplace = True)\n",
    "df.replace({'ManufacturingProcess34':{'NaN':0}}, inplace = True)\n",
    "df.replace({'ManufacturingProcess35':{'NaN':0}}, inplace = True)\n",
    "df.replace({'ManufacturingProcess36':{'NaN':0}}, inplace = True)\n",
    "df.replace({'ManufacturingProcess37':{'NaN':0}}, inplace = True)\n",
    "df.replace({'ManufacturingProcess38':{'NaN':0}}, inplace = True)\n",
    "df.replace({'ManufacturingProcess39':{'NaN':0}}, inplace = True)\n",
    "df.replace({'ManufacturingProcess40':{'NaN':0}}, inplace = True)\n",
    "df.replace({'ManufacturingProcess41':{'NaN':0}}, inplace = True)\n",
    "df.replace({'ManufacturingProcess42':{'NaN':0}}, inplace = True)\n",
    "df.replace({'ManufacturingProcess43':{'NaN':0}}, inplace = True)\n",
    "df.replace({'ManufacturingProcess44':{'NaN':0}}, inplace = True)\n",
    "df.replace({'ManufacturingProcess45':{'NaN':0}}, inplace = True)\n",
    "        \n",
    "            "
   ]
  },
  {
   "cell_type": "code",
   "execution_count": 20,
   "metadata": {},
   "outputs": [
    {
     "data": {
      "text/html": [
       "<div>\n",
       "<style scoped>\n",
       "    .dataframe tbody tr th:only-of-type {\n",
       "        vertical-align: middle;\n",
       "    }\n",
       "\n",
       "    .dataframe tbody tr th {\n",
       "        vertical-align: top;\n",
       "    }\n",
       "\n",
       "    .dataframe thead th {\n",
       "        text-align: right;\n",
       "    }\n",
       "</style>\n",
       "<table border=\"1\" class=\"dataframe\">\n",
       "  <thead>\n",
       "    <tr style=\"text-align: right;\">\n",
       "      <th></th>\n",
       "      <th>Yield</th>\n",
       "      <th>BiologicalMaterial01</th>\n",
       "      <th>BiologicalMaterial02</th>\n",
       "      <th>BiologicalMaterial03</th>\n",
       "      <th>BiologicalMaterial04</th>\n",
       "      <th>BiologicalMaterial05</th>\n",
       "      <th>BiologicalMaterial06</th>\n",
       "      <th>BiologicalMaterial07</th>\n",
       "      <th>BiologicalMaterial08</th>\n",
       "      <th>BiologicalMaterial09</th>\n",
       "      <th>...</th>\n",
       "      <th>ManufacturingProcess36</th>\n",
       "      <th>ManufacturingProcess37</th>\n",
       "      <th>ManufacturingProcess38</th>\n",
       "      <th>ManufacturingProcess39</th>\n",
       "      <th>ManufacturingProcess40</th>\n",
       "      <th>ManufacturingProcess41</th>\n",
       "      <th>ManufacturingProcess42</th>\n",
       "      <th>ManufacturingProcess43</th>\n",
       "      <th>ManufacturingProcess44</th>\n",
       "      <th>ManufacturingProcess45</th>\n",
       "    </tr>\n",
       "  </thead>\n",
       "  <tbody>\n",
       "    <tr>\n",
       "      <th>0</th>\n",
       "      <td>38.00</td>\n",
       "      <td>6.25</td>\n",
       "      <td>49.58</td>\n",
       "      <td>56.97</td>\n",
       "      <td>12.74</td>\n",
       "      <td>19.51</td>\n",
       "      <td>43.73</td>\n",
       "      <td>100.0</td>\n",
       "      <td>16.66</td>\n",
       "      <td>11.44</td>\n",
       "      <td>...</td>\n",
       "      <td>0.019</td>\n",
       "      <td>0.5</td>\n",
       "      <td>3</td>\n",
       "      <td>7.2</td>\n",
       "      <td>11.207429</td>\n",
       "      <td>11.207429</td>\n",
       "      <td>11.6</td>\n",
       "      <td>3.0</td>\n",
       "      <td>1.8</td>\n",
       "      <td>2.4</td>\n",
       "    </tr>\n",
       "    <tr>\n",
       "      <th>1</th>\n",
       "      <td>42.44</td>\n",
       "      <td>8.01</td>\n",
       "      <td>60.97</td>\n",
       "      <td>67.48</td>\n",
       "      <td>14.65</td>\n",
       "      <td>19.36</td>\n",
       "      <td>53.14</td>\n",
       "      <td>100.0</td>\n",
       "      <td>19.04</td>\n",
       "      <td>12.55</td>\n",
       "      <td>...</td>\n",
       "      <td>0.019</td>\n",
       "      <td>2.0</td>\n",
       "      <td>2</td>\n",
       "      <td>7.2</td>\n",
       "      <td>0.100000</td>\n",
       "      <td>0.150000</td>\n",
       "      <td>11.1</td>\n",
       "      <td>0.9</td>\n",
       "      <td>1.9</td>\n",
       "      <td>2.2</td>\n",
       "    </tr>\n",
       "    <tr>\n",
       "      <th>2</th>\n",
       "      <td>42.03</td>\n",
       "      <td>8.01</td>\n",
       "      <td>60.97</td>\n",
       "      <td>67.48</td>\n",
       "      <td>14.65</td>\n",
       "      <td>19.36</td>\n",
       "      <td>53.14</td>\n",
       "      <td>100.0</td>\n",
       "      <td>19.04</td>\n",
       "      <td>12.55</td>\n",
       "      <td>...</td>\n",
       "      <td>0.018</td>\n",
       "      <td>0.7</td>\n",
       "      <td>2</td>\n",
       "      <td>7.2</td>\n",
       "      <td>0.000000</td>\n",
       "      <td>0.000000</td>\n",
       "      <td>12.0</td>\n",
       "      <td>1.0</td>\n",
       "      <td>1.8</td>\n",
       "      <td>2.3</td>\n",
       "    </tr>\n",
       "    <tr>\n",
       "      <th>3</th>\n",
       "      <td>41.42</td>\n",
       "      <td>8.01</td>\n",
       "      <td>60.97</td>\n",
       "      <td>67.48</td>\n",
       "      <td>14.65</td>\n",
       "      <td>19.36</td>\n",
       "      <td>53.14</td>\n",
       "      <td>100.0</td>\n",
       "      <td>19.04</td>\n",
       "      <td>12.55</td>\n",
       "      <td>...</td>\n",
       "      <td>0.018</td>\n",
       "      <td>1.2</td>\n",
       "      <td>2</td>\n",
       "      <td>7.2</td>\n",
       "      <td>0.000000</td>\n",
       "      <td>0.000000</td>\n",
       "      <td>10.6</td>\n",
       "      <td>1.1</td>\n",
       "      <td>1.8</td>\n",
       "      <td>2.1</td>\n",
       "    </tr>\n",
       "    <tr>\n",
       "      <th>4</th>\n",
       "      <td>42.49</td>\n",
       "      <td>7.47</td>\n",
       "      <td>63.33</td>\n",
       "      <td>72.25</td>\n",
       "      <td>14.02</td>\n",
       "      <td>17.91</td>\n",
       "      <td>54.66</td>\n",
       "      <td>100.0</td>\n",
       "      <td>18.22</td>\n",
       "      <td>12.80</td>\n",
       "      <td>...</td>\n",
       "      <td>0.017</td>\n",
       "      <td>0.2</td>\n",
       "      <td>2</td>\n",
       "      <td>7.3</td>\n",
       "      <td>0.000000</td>\n",
       "      <td>0.000000</td>\n",
       "      <td>11.0</td>\n",
       "      <td>1.1</td>\n",
       "      <td>1.7</td>\n",
       "      <td>2.1</td>\n",
       "    </tr>\n",
       "  </tbody>\n",
       "</table>\n",
       "<p>5 rows × 58 columns</p>\n",
       "</div>"
      ],
      "text/plain": [
       "   Yield  BiologicalMaterial01  BiologicalMaterial02  BiologicalMaterial03  \\\n",
       "0  38.00                  6.25                 49.58                 56.97   \n",
       "1  42.44                  8.01                 60.97                 67.48   \n",
       "2  42.03                  8.01                 60.97                 67.48   \n",
       "3  41.42                  8.01                 60.97                 67.48   \n",
       "4  42.49                  7.47                 63.33                 72.25   \n",
       "\n",
       "   BiologicalMaterial04  BiologicalMaterial05  BiologicalMaterial06  \\\n",
       "0                 12.74                 19.51                 43.73   \n",
       "1                 14.65                 19.36                 53.14   \n",
       "2                 14.65                 19.36                 53.14   \n",
       "3                 14.65                 19.36                 53.14   \n",
       "4                 14.02                 17.91                 54.66   \n",
       "\n",
       "   BiologicalMaterial07  BiologicalMaterial08  BiologicalMaterial09  ...  \\\n",
       "0                 100.0                 16.66                 11.44  ...   \n",
       "1                 100.0                 19.04                 12.55  ...   \n",
       "2                 100.0                 19.04                 12.55  ...   \n",
       "3                 100.0                 19.04                 12.55  ...   \n",
       "4                 100.0                 18.22                 12.80  ...   \n",
       "\n",
       "   ManufacturingProcess36  ManufacturingProcess37  ManufacturingProcess38  \\\n",
       "0                   0.019                     0.5                       3   \n",
       "1                   0.019                     2.0                       2   \n",
       "2                   0.018                     0.7                       2   \n",
       "3                   0.018                     1.2                       2   \n",
       "4                   0.017                     0.2                       2   \n",
       "\n",
       "   ManufacturingProcess39  ManufacturingProcess40  ManufacturingProcess41  \\\n",
       "0                     7.2               11.207429               11.207429   \n",
       "1                     7.2                0.100000                0.150000   \n",
       "2                     7.2                0.000000                0.000000   \n",
       "3                     7.2                0.000000                0.000000   \n",
       "4                     7.3                0.000000                0.000000   \n",
       "\n",
       "   ManufacturingProcess42  ManufacturingProcess43  ManufacturingProcess44  \\\n",
       "0                    11.6                     3.0                     1.8   \n",
       "1                    11.1                     0.9                     1.9   \n",
       "2                    12.0                     1.0                     1.8   \n",
       "3                    10.6                     1.1                     1.8   \n",
       "4                    11.0                     1.1                     1.7   \n",
       "\n",
       "   ManufacturingProcess45  \n",
       "0                     2.4  \n",
       "1                     2.2  \n",
       "2                     2.3  \n",
       "3                     2.1  \n",
       "4                     2.1  \n",
       "\n",
       "[5 rows x 58 columns]"
      ]
     },
     "execution_count": 20,
     "metadata": {},
     "output_type": "execute_result"
    }
   ],
   "source": [
    "df.head()"
   ]
  },
  {
   "cell_type": "markdown",
   "metadata": {},
   "source": [
    "# Correlation"
   ]
  },
  {
   "cell_type": "code",
   "execution_count": 21,
   "metadata": {},
   "outputs": [],
   "source": [
    "np.bool=bool"
   ]
  },
  {
   "cell_type": "code",
   "execution_count": 22,
   "metadata": {},
   "outputs": [
    {
     "data": {
      "image/png": "[encoded data removed]",
      "text/plain": [
       "<Figure size 1440x1440 with 2 Axes>"
      ]
     },
     "metadata": {
      "needs_background": "light"
     },
     "output_type": "display_data"
    }
   ],
   "source": [
    "corr = df.corr()\n",
    "corr = corr[corr>=0.7]\n",
    "plt.figure(figsize=(20,20))\n",
    "sns.heatmap(corr, annot=True, cmap='coolwarm')\n",
    "plt.show()"
   ]
  },
  {
   "cell_type": "markdown",
   "metadata": {},
   "source": [
    "# Selecting x and y as independent and Dependent Features"
   ]
  },
  {
   "cell_type": "code",
   "execution_count": 23,
   "metadata": {},
   "outputs": [
    {
     "name": "stdout",
     "output_type": "stream",
     "text": [
      "<class 'pandas.core.frame.DataFrame'>\n",
      "<class 'pandas.core.series.Series'>\n",
      "(176, 57)\n",
      "(176,)\n"
     ]
    }
   ],
   "source": [
    "x = df.drop('Yield', axis=1)\n",
    "y = df['Yield']\n",
    "print(type(x))\n",
    "print(type(y))\n",
    "print(x.shape)\n",
    "print(y.shape)"
   ]
  },
  {
   "cell_type": "markdown",
   "metadata": {},
   "source": [
    "# Splillitng data into train and test data"
   ]
  },
  {
   "cell_type": "code",
   "execution_count": 24,
   "metadata": {},
   "outputs": [],
   "source": [
    "from sklearn.model_selection import train_test_split"
   ]
  },
  {
   "cell_type": "code",
   "execution_count": 25,
   "metadata": {},
   "outputs": [
    {
     "data": {
      "text/plain": [
       "52.8"
      ]
     },
     "execution_count": 25,
     "metadata": {},
     "output_type": "execute_result"
    }
   ],
   "source": [
    "176*.30"
   ]
  },
  {
   "cell_type": "code",
   "execution_count": 26,
   "metadata": {},
   "outputs": [
    {
     "name": "stdout",
     "output_type": "stream",
     "text": [
      "(123, 57)\n",
      "(53, 57)\n",
      "(123,)\n",
      "(53,)\n"
     ]
    }
   ],
   "source": [
    "x_train, x_test, y_train, y_test = train_test_split(x,y, test_size=0.30, random_state=35)\n",
    "print(x_train.shape)\n",
    "print(x_test.shape)\n",
    "print(y_train.shape)\n",
    "print(y_test.shape)"
   ]
  },
  {
   "cell_type": "code",
   "execution_count": 27,
   "metadata": {},
   "outputs": [
    {
     "name": "stdout",
     "output_type": "stream",
     "text": [
      "<class 'pandas.core.frame.DataFrame'> <class 'pandas.core.frame.DataFrame'>\n",
      "<class 'pandas.core.series.Series'> <class 'pandas.core.series.Series'>\n"
     ]
    }
   ],
   "source": [
    "print(type(x_train), type(x_test))\n",
    "print(type(y_train), type(y_test))"
   ]
  },
  {
   "cell_type": "code",
   "execution_count": 28,
   "metadata": {},
   "outputs": [
    {
     "data": {
      "text/html": [
       "<div>\n",
       "<style scoped>\n",
       "    .dataframe tbody tr th:only-of-type {\n",
       "        vertical-align: middle;\n",
       "    }\n",
       "\n",
       "    .dataframe tbody tr th {\n",
       "        vertical-align: top;\n",
       "    }\n",
       "\n",
       "    .dataframe thead th {\n",
       "        text-align: right;\n",
       "    }\n",
       "</style>\n",
       "<table border=\"1\" class=\"dataframe\">\n",
       "  <thead>\n",
       "    <tr style=\"text-align: right;\">\n",
       "      <th></th>\n",
       "      <th>BiologicalMaterial01</th>\n",
       "      <th>BiologicalMaterial02</th>\n",
       "      <th>BiologicalMaterial03</th>\n",
       "      <th>BiologicalMaterial04</th>\n",
       "      <th>BiologicalMaterial05</th>\n",
       "      <th>BiologicalMaterial06</th>\n",
       "      <th>BiologicalMaterial07</th>\n",
       "      <th>BiologicalMaterial08</th>\n",
       "      <th>BiologicalMaterial09</th>\n",
       "      <th>BiologicalMaterial10</th>\n",
       "      <th>...</th>\n",
       "      <th>ManufacturingProcess36</th>\n",
       "      <th>ManufacturingProcess37</th>\n",
       "      <th>ManufacturingProcess38</th>\n",
       "      <th>ManufacturingProcess39</th>\n",
       "      <th>ManufacturingProcess40</th>\n",
       "      <th>ManufacturingProcess41</th>\n",
       "      <th>ManufacturingProcess42</th>\n",
       "      <th>ManufacturingProcess43</th>\n",
       "      <th>ManufacturingProcess44</th>\n",
       "      <th>ManufacturingProcess45</th>\n",
       "    </tr>\n",
       "  </thead>\n",
       "  <tbody>\n",
       "    <tr>\n",
       "      <th>27</th>\n",
       "      <td>6.86</td>\n",
       "      <td>55.66</td>\n",
       "      <td>63.43</td>\n",
       "      <td>12.53</td>\n",
       "      <td>20.39</td>\n",
       "      <td>48.94</td>\n",
       "      <td>100.0</td>\n",
       "      <td>16.71</td>\n",
       "      <td>11.94</td>\n",
       "      <td>3.07</td>\n",
       "      <td>...</td>\n",
       "      <td>0.021000</td>\n",
       "      <td>0.9</td>\n",
       "      <td>3</td>\n",
       "      <td>7.4</td>\n",
       "      <td>0.0</td>\n",
       "      <td>0.0</td>\n",
       "      <td>11.6</td>\n",
       "      <td>1.3</td>\n",
       "      <td>1.7</td>\n",
       "      <td>2.2</td>\n",
       "    </tr>\n",
       "    <tr>\n",
       "      <th>6</th>\n",
       "      <td>7.48</td>\n",
       "      <td>64.47</td>\n",
       "      <td>72.41</td>\n",
       "      <td>13.82</td>\n",
       "      <td>17.71</td>\n",
       "      <td>54.45</td>\n",
       "      <td>100.0</td>\n",
       "      <td>18.72</td>\n",
       "      <td>12.95</td>\n",
       "      <td>3.04</td>\n",
       "      <td>...</td>\n",
       "      <td>0.019000</td>\n",
       "      <td>0.8</td>\n",
       "      <td>2</td>\n",
       "      <td>7.3</td>\n",
       "      <td>0.0</td>\n",
       "      <td>0.0</td>\n",
       "      <td>11.7</td>\n",
       "      <td>0.7</td>\n",
       "      <td>2.0</td>\n",
       "      <td>2.2</td>\n",
       "    </tr>\n",
       "    <tr>\n",
       "      <th>40</th>\n",
       "      <td>6.60</td>\n",
       "      <td>58.80</td>\n",
       "      <td>71.17</td>\n",
       "      <td>12.40</td>\n",
       "      <td>22.14</td>\n",
       "      <td>52.24</td>\n",
       "      <td>100.0</td>\n",
       "      <td>17.21</td>\n",
       "      <td>12.77</td>\n",
       "      <td>2.58</td>\n",
       "      <td>...</td>\n",
       "      <td>0.019000</td>\n",
       "      <td>0.0</td>\n",
       "      <td>2</td>\n",
       "      <td>7.2</td>\n",
       "      <td>0.0</td>\n",
       "      <td>0.0</td>\n",
       "      <td>10.9</td>\n",
       "      <td>1.0</td>\n",
       "      <td>1.9</td>\n",
       "      <td>2.2</td>\n",
       "    </tr>\n",
       "    <tr>\n",
       "      <th>128</th>\n",
       "      <td>6.23</td>\n",
       "      <td>52.95</td>\n",
       "      <td>66.71</td>\n",
       "      <td>12.75</td>\n",
       "      <td>16.31</td>\n",
       "      <td>45.84</td>\n",
       "      <td>100.0</td>\n",
       "      <td>16.70</td>\n",
       "      <td>12.75</td>\n",
       "      <td>2.98</td>\n",
       "      <td>...</td>\n",
       "      <td>0.019000</td>\n",
       "      <td>0.4</td>\n",
       "      <td>2</td>\n",
       "      <td>7.0</td>\n",
       "      <td>0.0</td>\n",
       "      <td>0.0</td>\n",
       "      <td>11.7</td>\n",
       "      <td>0.5</td>\n",
       "      <td>2.0</td>\n",
       "      <td>2.2</td>\n",
       "    </tr>\n",
       "    <tr>\n",
       "      <th>175</th>\n",
       "      <td>7.53</td>\n",
       "      <td>58.36</td>\n",
       "      <td>69.25</td>\n",
       "      <td>14.35</td>\n",
       "      <td>20.57</td>\n",
       "      <td>51.31</td>\n",
       "      <td>100.0</td>\n",
       "      <td>17.87</td>\n",
       "      <td>12.77</td>\n",
       "      <td>3.55</td>\n",
       "      <td>...</td>\n",
       "      <td>11.207429</td>\n",
       "      <td>0.9</td>\n",
       "      <td>0</td>\n",
       "      <td>0.0</td>\n",
       "      <td>0.0</td>\n",
       "      <td>0.0</td>\n",
       "      <td>0.0</td>\n",
       "      <td>0.6</td>\n",
       "      <td>0.0</td>\n",
       "      <td>0.0</td>\n",
       "    </tr>\n",
       "  </tbody>\n",
       "</table>\n",
       "<p>5 rows × 57 columns</p>\n",
       "</div>"
      ],
      "text/plain": [
       "     BiologicalMaterial01  BiologicalMaterial02  BiologicalMaterial03  \\\n",
       "27                   6.86                 55.66                 63.43   \n",
       "6                    7.48                 64.47                 72.41   \n",
       "40                   6.60                 58.80                 71.17   \n",
       "128                  6.23                 52.95                 66.71   \n",
       "175                  7.53                 58.36                 69.25   \n",
       "\n",
       "     BiologicalMaterial04  BiologicalMaterial05  BiologicalMaterial06  \\\n",
       "27                  12.53                 20.39                 48.94   \n",
       "6                   13.82                 17.71                 54.45   \n",
       "40                  12.40                 22.14                 52.24   \n",
       "128                 12.75                 16.31                 45.84   \n",
       "175                 14.35                 20.57                 51.31   \n",
       "\n",
       "     BiologicalMaterial07  BiologicalMaterial08  BiologicalMaterial09  \\\n",
       "27                  100.0                 16.71                 11.94   \n",
       "6                   100.0                 18.72                 12.95   \n",
       "40                  100.0                 17.21                 12.77   \n",
       "128                 100.0                 16.70                 12.75   \n",
       "175                 100.0                 17.87                 12.77   \n",
       "\n",
       "     BiologicalMaterial10  ...  ManufacturingProcess36  \\\n",
       "27                   3.07  ...                0.021000   \n",
       "6                    3.04  ...                0.019000   \n",
       "40                   2.58  ...                0.019000   \n",
       "128                  2.98  ...                0.019000   \n",
       "175                  3.55  ...               11.207429   \n",
       "\n",
       "     ManufacturingProcess37  ManufacturingProcess38  ManufacturingProcess39  \\\n",
       "27                      0.9                       3                     7.4   \n",
       "6                       0.8                       2                     7.3   \n",
       "40                      0.0                       2                     7.2   \n",
       "128                     0.4                       2                     7.0   \n",
       "175                     0.9                       0                     0.0   \n",
       "\n",
       "     ManufacturingProcess40  ManufacturingProcess41  ManufacturingProcess42  \\\n",
       "27                      0.0                     0.0                    11.6   \n",
       "6                       0.0                     0.0                    11.7   \n",
       "40                      0.0                     0.0                    10.9   \n",
       "128                     0.0                     0.0                    11.7   \n",
       "175                     0.0                     0.0                     0.0   \n",
       "\n",
       "     ManufacturingProcess43  ManufacturingProcess44  ManufacturingProcess45  \n",
       "27                      1.3                     1.7                     2.2  \n",
       "6                       0.7                     2.0                     2.2  \n",
       "40                      1.0                     1.9                     2.2  \n",
       "128                     0.5                     2.0                     2.2  \n",
       "175                     0.6                     0.0                     0.0  \n",
       "\n",
       "[5 rows x 57 columns]"
      ]
     },
     "execution_count": 28,
     "metadata": {},
     "output_type": "execute_result"
    }
   ],
   "source": [
    "x_train.head()"
   ]
  },
  {
   "cell_type": "code",
   "execution_count": 29,
   "metadata": {},
   "outputs": [
    {
     "data": {
      "text/plain": [
       "27     36.12\n",
       "6      43.12\n",
       "40     41.47\n",
       "128    42.73\n",
       "175    39.49\n",
       "Name: Yield, dtype: float64"
      ]
     },
     "execution_count": 29,
     "metadata": {},
     "output_type": "execute_result"
    }
   ],
   "source": [
    "y_train.head()"
   ]
  },
  {
   "cell_type": "markdown",
   "metadata": {},
   "source": [
    "# Creating a function to generate Regression Metrics"
   ]
  },
  {
   "cell_type": "code",
   "execution_count": 257,
   "metadata": {},
   "outputs": [],
   "source": [
    "#!pip install threadpoolctl==3.1.0\n"
   ]
  },
  {
   "cell_type": "code",
   "execution_count": 30,
   "metadata": {},
   "outputs": [],
   "source": [
    "from sklearn.metrics import mean_absolute_error, mean_squared_error,r2_score\n"
   ]
  },
  {
   "cell_type": "code",
   "execution_count": 31,
   "metadata": {},
   "outputs": [],
   "source": [
    "def reg_eval_metrics(ytest, ypred):\n",
    "    mae = mean_absolute_error(ytest, ypred)\n",
    "    mse = mean_squared_error(ytest, ypred)\n",
    "    rmse = np.sqrt(mean_squared_error(ytest, ypred))\n",
    "    r2 = r2_score(ytest, ypred)\n",
    "    print(\"MAE:\", mae)\n",
    "    print(\"MSE: \", mse)\n",
    "    print(\"RMSE: \", rmse)\n",
    "    print(\"R2 Score: \", r2)\n",
    "    \n",
    "def train_test_scr(model):\n",
    "    print('Training Score',model.score(x_train, y_train))\n",
    "    print('Testing Score', model.score(x_test, y_test))"
   ]
  },
  {
   "cell_type": "code",
   "execution_count": 260,
   "metadata": {},
   "outputs": [],
   "source": [
    "# if your_variable is not None:\n",
    "#     your_variable.split()\n"
   ]
  },
  {
   "cell_type": "code",
   "execution_count": 261,
   "metadata": {},
   "outputs": [],
   "source": [
    "# NoneType.split = split"
   ]
  },
  {
   "cell_type": "code",
   "execution_count": 262,
   "metadata": {},
   "outputs": [],
   "source": [
    "# import sklearn\n",
    "# print(sklearn.show_versions())"
   ]
  },
  {
   "cell_type": "markdown",
   "metadata": {},
   "source": [
    "# KNN Regression"
   ]
  },
  {
   "cell_type": "code",
   "execution_count": 32,
   "metadata": {},
   "outputs": [],
   "source": [
    "from sklearn.neighbors import KNeighborsRegressor"
   ]
  },
  {
   "cell_type": "markdown",
   "metadata": {},
   "source": [
    "# Applying the KNN Reg Model"
   ]
  },
  {
   "cell_type": "code",
   "execution_count": 33,
   "metadata": {},
   "outputs": [
    {
     "data": {
      "text/html": [
       "<style>#sk-container-id-1 {color: black;}#sk-container-id-1 pre{padding: 0;}#sk-container-id-1 div.sk-toggleable {background-color: white;}#sk-container-id-1 label.sk-toggleable__label {cursor: pointer;display: block;width: 100%;margin-bottom: 0;padding: 0.3em;box-sizing: border-box;text-align: center;}#sk-container-id-1 label.sk-toggleable__label-arrow:before {content: \"▸\";float: left;margin-right: 0.25em;color: #696969;}#sk-container-id-1 label.sk-toggleable__label-arrow:hover:before {color: black;}#sk-container-id-1 div.sk-estimator:hover label.sk-toggleable__label-arrow:before {color: black;}#sk-container-id-1 div.sk-toggleable__content {max-height: 0;max-width: 0;overflow: hidden;text-align: left;background-color: #f0f8ff;}#sk-container-id-1 div.sk-toggleable__content pre {margin: 0.2em;color: black;border-radius: 0.25em;background-color: #f0f8ff;}#sk-container-id-1 input.sk-toggleable__control:checked~div.sk-toggleable__content {max-height: 200px;max-width: 100%;overflow: auto;}#sk-container-id-1 input.sk-toggleable__control:checked~label.sk-toggleable__label-arrow:before {content: \"▾\";}#sk-container-id-1 div.sk-estimator input.sk-toggleable__control:checked~label.sk-toggleable__label {background-color: #d4ebff;}#sk-container-id-1 div.sk-label input.sk-toggleable__control:checked~label.sk-toggleable__label {background-color: #d4ebff;}#sk-container-id-1 input.sk-hidden--visually {border: 0;clip: rect(1px 1px 1px 1px);clip: rect(1px, 1px, 1px, 1px);height: 1px;margin: -1px;overflow: hidden;padding: 0;position: absolute;width: 1px;}#sk-container-id-1 div.sk-estimator {font-family: monospace;background-color: #f0f8ff;border: 1px dotted black;border-radius: 0.25em;box-sizing: border-box;margin-bottom: 0.5em;}#sk-container-id-1 div.sk-estimator:hover {background-color: #d4ebff;}#sk-container-id-1 div.sk-parallel-item::after {content: \"\";width: 100%;border-bottom: 1px solid gray;flex-grow: 1;}#sk-container-id-1 div.sk-label:hover label.sk-toggleable__label {background-color: #d4ebff;}#sk-container-id-1 div.sk-serial::before {content: \"\";position: absolute;border-left: 1px solid gray;box-sizing: border-box;top: 0;bottom: 0;left: 50%;z-index: 0;}#sk-container-id-1 div.sk-serial {display: flex;flex-direction: column;align-items: center;background-color: white;padding-right: 0.2em;padding-left: 0.2em;position: relative;}#sk-container-id-1 div.sk-item {position: relative;z-index: 1;}#sk-container-id-1 div.sk-parallel {display: flex;align-items: stretch;justify-content: center;background-color: white;position: relative;}#sk-container-id-1 div.sk-item::before, #sk-container-id-1 div.sk-parallel-item::before {content: \"\";position: absolute;border-left: 1px solid gray;box-sizing: border-box;top: 0;bottom: 0;left: 50%;z-index: -1;}#sk-container-id-1 div.sk-parallel-item {display: flex;flex-direction: column;z-index: 1;position: relative;background-color: white;}#sk-container-id-1 div.sk-parallel-item:first-child::after {align-self: flex-end;width: 50%;}#sk-container-id-1 div.sk-parallel-item:last-child::after {align-self: flex-start;width: 50%;}#sk-container-id-1 div.sk-parallel-item:only-child::after {width: 0;}#sk-container-id-1 div.sk-dashed-wrapped {border: 1px dashed gray;margin: 0 0.4em 0.5em 0.4em;box-sizing: border-box;padding-bottom: 0.4em;background-color: white;}#sk-container-id-1 div.sk-label label {font-family: monospace;font-weight: bold;display: inline-block;line-height: 1.2em;}#sk-container-id-1 div.sk-label-container {text-align: center;}#sk-container-id-1 div.sk-container {/* jupyter's `normalize.less` sets `[hidden] { display: none; }` but bootstrap.min.css set `[hidden] { display: none !important; }` so we also need the `!important` here to be able to override the default hidden behavior on the sphinx rendered scikit-learn.org. See: https://github.com/scikit-learn/scikit-learn/issues/21755 */display: inline-block !important;position: relative;}#sk-container-id-1 div.sk-text-repr-fallback {display: none;}</style><div id=\"sk-container-id-1\" class=\"sk-top-container\"><div class=\"sk-text-repr-fallback\"><pre>KNeighborsRegressor(n_neighbors=11)</pre><b>In a Jupyter environment, please rerun this cell to show the HTML representation or trust the notebook. <br />On GitHub, the HTML representation is unable to render, please try loading this page with nbviewer.org.</b></div><div class=\"sk-container\" hidden><div class=\"sk-item\"><div class=\"sk-estimator sk-toggleable\"><input class=\"sk-toggleable__control sk-hidden--visually\" id=\"sk-estimator-id-1\" type=\"checkbox\" checked><label for=\"sk-estimator-id-1\" class=\"sk-toggleable__label sk-toggleable__label-arrow\">KNeighborsRegressor</label><div class=\"sk-toggleable__content\"><pre>KNeighborsRegressor(n_neighbors=11)</pre></div></div></div></div></div>"
      ],
      "text/plain": [
       "KNeighborsRegressor(n_neighbors=11)"
      ]
     },
     "execution_count": 33,
     "metadata": {},
     "output_type": "execute_result"
    }
   ],
   "source": [
    "m1 = KNeighborsRegressor(n_neighbors=11)\n",
    "m1.fit(x_train, y_train)"
   ]
  },
  {
   "cell_type": "markdown",
   "metadata": {},
   "source": [
    "Computing Training and Testing R2 Score"
   ]
  },
  {
   "cell_type": "code",
   "execution_count": 34,
   "metadata": {},
   "outputs": [
    {
     "name": "stdout",
     "output_type": "stream",
     "text": [
      "Training Score 0.34066834501594034\n",
      "Testing Score 0.4009475916869524\n"
     ]
    }
   ],
   "source": [
    "train_test_scr(m1)"
   ]
  },
  {
   "cell_type": "markdown",
   "metadata": {},
   "source": [
    "Computing the Model Predictions"
   ]
  },
  {
   "cell_type": "code",
   "execution_count": 35,
   "metadata": {},
   "outputs": [
    {
     "name": "stdout",
     "output_type": "stream",
     "text": [
      "[39.32272727 39.94090909 39.98181818 39.45181818 39.61636364 41.50272727\n",
      " 38.58272727 38.99181818 40.34454545 40.64       39.66454545 39.43818182\n",
      " 39.77727273 41.58818182 39.26818182 40.82545455 39.92545455 40.00272727\n",
      " 40.26090909 41.30181818 41.22727273 37.97818182 41.74818182 40.76363636\n",
      " 38.52272727 39.91727273 39.69       40.00909091 40.07818182 39.63454545\n",
      " 39.85545455 39.76454545 40.60454545 40.76636364 39.78818182 38.03727273\n",
      " 39.80727273 40.68636364 39.51727273 39.57909091 38.45       40.51545455\n",
      " 38.87545455 40.22636364 38.90090909 39.70363636 39.21636364 39.89454545\n",
      " 39.92       39.43       41.32909091 40.56545455 40.95545455]\n"
     ]
    }
   ],
   "source": [
    "ypred_m1 = m1.predict(x_test)\n",
    "print(ypred_m1)"
   ]
  },
  {
   "cell_type": "markdown",
   "metadata": {},
   "source": [
    "# Computing Regression Evaluation Metrics"
   ]
  },
  {
   "cell_type": "code",
   "execution_count": 37,
   "metadata": {},
   "outputs": [
    {
     "name": "stdout",
     "output_type": "stream",
     "text": [
      "<class 'pandas.core.series.Series'>\n",
      "<class 'numpy.ndarray'>\n",
      "<class 'tuple'>\n",
      "(53,)\n"
     ]
    }
   ],
   "source": [
    "print(type(y_test))\n",
    "print(type(ypred_m1))\n",
    "print(type(y_test.shape))\n",
    "print(ypred_m1.shape)"
   ]
  },
  {
   "cell_type": "code",
   "execution_count": 38,
   "metadata": {},
   "outputs": [
    {
     "name": "stdout",
     "output_type": "stream",
     "text": [
      "MAE: 0.9653344768439107\n",
      "MSE:  1.5944099953220026\n",
      "RMSE:  1.2626994873373485\n",
      "R2 Score:  0.4009475916869524\n"
     ]
    }
   ],
   "source": [
    "reg_eval_metrics(y_test, ypred_m1)"
   ]
  },
  {
   "cell_type": "code",
   "execution_count": null,
   "metadata": {},
   "outputs": [],
   "source": []
  },
  {
   "cell_type": "code",
   "execution_count": null,
   "metadata": {},
   "outputs": [],
   "source": []
  }
 ],
 "metadata": {
  "kernelspec": {
   "display_name": "Python 3",
   "language": "python",
   "name": "python3"
  },
  "language_info": {
   "codemirror_mode": {
    "name": "ipython",
    "version": 3
   },
   "file_extension": ".py",
   "mimetype": "text/x-python",
   "name": "python",
   "nbconvert_exporter": "python",
   "pygments_lexer": "ipython3",
   "version": "3.8.3"
  }
 },
 "nbformat": 4,
 "nbformat_minor": 4
}
